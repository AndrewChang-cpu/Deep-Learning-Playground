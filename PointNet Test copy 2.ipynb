{
 "cells": [
  {
   "cell_type": "code",
   "execution_count": 1,
   "id": "342c0f46",
   "metadata": {},
   "outputs": [],
   "source": [
    "import torch\n",
    "from torch import optim\n",
    "from torch import nn\n",
    "import torch.nn.functional as F\n",
    "from torch.utils.data import DataLoader, Dataset\n",
    "from torchvision import datasets, transforms\n",
    "# from torchvision.transforms import ToTensorfrom \n",
    "from torch.utils.tensorboard import SummaryWriter\n",
    "\n",
    "import matplotlib.pyplot as plt\n",
    "import numpy as np\n",
    "import os\n",
    "\n",
    "writer = SummaryWriter()"
   ]
  },
  {
   "cell_type": "code",
   "execution_count": 2,
   "id": "669251ce",
   "metadata": {},
   "outputs": [],
   "source": [
    "class PointCloudDataset(Dataset):\n",
    "    def __init__(self, pts_file):\n",
    "        points = np.loadtxt(pts_file, delimiter=' ')\n",
    "        # do i need to min max intensity, return number, number of returns, etc.? probably not\n",
    "        for i in range(3):\n",
    "            dim_min, dim_max = min(points[:,i]), max(points[:,i])\n",
    "            points[:,i] = (points[:,i] - dim_min) / (dim_max - dim_min)\n",
    "        self.data = points\n",
    "        \n",
    "    def __len__(self):\n",
    "        return len(self.data) // 5000\n",
    "        \n",
    "    def __getitem__(self, idx):\n",
    "        # Return batches of 5000 points\n",
    "        xyzirn = self.data[idx * 5000: (idx + 1) * 5000, :6]  # x, y, z, intensity, return number, number of returns\n",
    "        label = self.data[idx * 5000: (idx + 1) * 5000, 6] == 8\n",
    "\n",
    "        xyzirn = torch.from_numpy(xyzirn.T).float()\n",
    "        label = torch.tensor(label).long()\n",
    "        \n",
    "        return xyzirn, label\n",
    "\n",
    "training_data = PointCloudDataset(r\"C:\\Users\\and13375\\Documents\\3D Point Segmentation\\Test\\Vaihingen\\3DLabeling\\Vaihingen3D_Traininig.pts\")\n",
    "testing_data = PointCloudDataset(r\"C:\\Users\\and13375\\Documents\\3D Point Segmentation\\Test\\Vaihingen\\3DLabeling\\Vaihingen3D_EVAL_WITH_REF.pts\")\n",
    "train_dataloader = DataLoader(training_data, batch_size=64, shuffle=True) # can/should i use shuffle, try lowering it?\n",
    "test_dataloader = DataLoader(testing_data, batch_size=64, shuffle=False)\n",
    "\n",
    "num_classes = 2"
   ]
  },
  {
   "cell_type": "code",
   "execution_count": 3,
   "id": "5c2f1642",
   "metadata": {},
   "outputs": [
    {
     "name": "stdout",
     "output_type": "stream",
     "text": [
      "Feature batch shape: torch.Size([64, 6, 5000])\n",
      "Labels batch shape: torch.Size([64, 5000])\n"
     ]
    }
   ],
   "source": [
    "train_features, train_labels = next(iter(train_dataloader))\n",
    "print(f\"Feature batch shape: {train_features.size()}\")\n",
    "print(f\"Labels batch shape: {train_labels.size()}\")"
   ]
  },
  {
   "cell_type": "code",
   "execution_count": 4,
   "id": "4086ae4c",
   "metadata": {},
   "outputs": [
    {
     "name": "stdout",
     "output_type": "stream",
     "text": [
      "Using cuda device\n"
     ]
    }
   ],
   "source": [
    "# Get cpu, gpu or mps device for training.\n",
    "device = (\n",
    "    \"cuda\"\n",
    "    if torch.cuda.is_available()\n",
    "    else \"mps\"\n",
    "    if torch.backends.mps.is_available()\n",
    "    else \"cpu\"\n",
    ")\n",
    "print(f\"Using {device} device\")"
   ]
  },
  {
   "cell_type": "code",
   "execution_count": 5,
   "id": "54b033a2",
   "metadata": {},
   "outputs": [],
   "source": [
    "class STNkd(nn.Module):\n",
    "    def __init__(self, k=64):\n",
    "        super(STNkd, self).__init__()\n",
    "        self.mlp1 = nn.Sequential(torch.nn.Conv1d(k, 64, 1), nn.BatchNorm1d(64), nn.GELU())\n",
    "        self.mlp2 = nn.Sequential(torch.nn.Conv1d(64, 128, 1), nn.BatchNorm1d(128), nn.GELU())\n",
    "        self.mlp3 = nn.Sequential(torch.nn.Conv1d(128, 1024, 1), nn.BatchNorm1d(1024), nn.GELU())\n",
    "        self.mlp4 = nn.Sequential(nn.Linear(1024, 512), nn.BatchNorm1d(512), nn.GELU())\n",
    "        self.mlp5 = nn.Sequential(nn.Linear(512, 256), nn.BatchNorm1d(256), nn.GELU())\n",
    "        self.fc = nn.Linear(256, k*k)\n",
    "\n",
    "        self.k = k\n",
    "\n",
    "    def forward(self, x):\n",
    "        batchsize = x.size()[0]\n",
    "        x = self.mlp1(x)\n",
    "        x = self.mlp2(x)\n",
    "        x = self.mlp3(x)\n",
    "\n",
    "        x = torch.max(x, 2, keepdim=True)[0]\n",
    "        x = x.view(-1, 1024)\n",
    "\n",
    "        x = self.mlp4(x)\n",
    "        x = self.mlp5(x)\n",
    "        x = self.fc(x)\n",
    "\n",
    "        iden = torch.eye(self.k, requires_grad=True).repeat(batchsize,1,1)\n",
    "        if x.is_cuda:\n",
    "            iden = iden.cuda()\n",
    "        x = x.view(-1, self.k, self.k) + iden\n",
    "\n",
    "        return x"
   ]
  },
  {
   "cell_type": "code",
   "execution_count": 6,
   "id": "363013ef",
   "metadata": {},
   "outputs": [],
   "source": [
    "class PoinNet(nn.Module):\n",
    "    def __init__(self, input_dim=6, num_classes=2):\n",
    "        super().__init__()\n",
    "\n",
    "        # Should GELU be after LayerNorm?\n",
    "        # self.stn1 = STNkd(k=input_dim)\n",
    "        self.mlp1 = nn.Sequential(nn.Conv1d(input_dim, 64, kernel_size=1), nn.BatchNorm1d(64), nn.GELU())\n",
    "        self.mlp2 = nn.Sequential(nn.Conv1d(64, 64, kernel_size=1), nn.BatchNorm1d(64), nn.GELU())\n",
    "        \n",
    "        # self.stn2 = STNkd(k=64)\n",
    "        self.mlp3 = nn.Sequential(nn.Conv1d(64, 64, kernel_size=1), nn.BatchNorm1d(64), nn.GELU())\n",
    "        self.mlp4 = nn.Sequential(nn.Conv1d(64, 128, kernel_size=1), nn.BatchNorm1d(128), nn.GELU())\n",
    "        self.mlp5 = nn.Sequential(nn.Conv1d(128, 1024, kernel_size=1), nn.BatchNorm1d(1024), nn.GELU())\n",
    "        \n",
    "        self.mlp6 = nn.Sequential(nn.Linear(1088, 512), nn.LayerNorm(512), nn.GELU())\n",
    "        self.mlp7 = nn.Sequential(nn.Linear(512, 256), nn.LayerNorm(256), nn.GELU())\n",
    "        self.mlp8 = nn.Sequential(nn.Linear(256, 128), nn.LayerNorm(128), nn.GELU())\n",
    "        self.fc = nn.Linear(128, num_classes)\n",
    "\n",
    "        self.debug = nn.Conv1d(input_dim, num_classes, 1)\n",
    "\n",
    "    def forward(self, x):\n",
    "        n_pts = x.size()[2]\n",
    "\n",
    "        trans6x6 = self.stn1(x) \n",
    "        x = x.transpose(2, 1)\n",
    "        x = torch.bmm(x, trans6x6)\n",
    "        x = x.transpose(2, 1)\n",
    "\n",
    "        x = self.mlp1(x)\n",
    "        # print(1, x.size())\n",
    "        x = self.mlp2(x)\n",
    "        # print(2, x.size())\n",
    "        \n",
    "        \n",
    "        # trans64x64 = self.stn2(x)\n",
    "        # x = x.transpose(2, 1)\n",
    "        # x = torch.bmm(x, trans64x64)\n",
    "        # local_features = x.transpose(2, 1)\n",
    "        local_features = x\n",
    "\n",
    "        x = self.mlp3(local_features)\n",
    "        # print(3, x.size())\n",
    "        x = self.mlp4(x)\n",
    "        print(4, x.size())\n",
    "        x = self.mlp5(x)\n",
    "        print(5, x.size())\n",
    "        x = torch.max(x, 2)[0]\n",
    "        print(6, x.size())\n",
    "        \n",
    "        # FOR CLASSIFICATION\n",
    "        # x = self.mlp6(x)\n",
    "        # print(6, x.size())\n",
    "        # x = self.mlp7(x)\n",
    "        # print(7, x.size())\n",
    "        # x = self.fc(x)\n",
    "        # print(8, x.size())\n",
    "        # return F.log_softmax(x, dim=1)\n",
    "\n",
    "        global_features = x.unsqueeze(2).repeat(1, 1, n_pts)\n",
    "        print(7, global_features.size())\n",
    "        x = torch.cat([local_features, global_features], 1)\n",
    "        print(8, x.size())\n",
    "\n",
    "        x = x.transpose(2, 1)\n",
    "        x = self.mlp6(x)\n",
    "        print(9, x.size())\n",
    "        x = self.mlp7(x)\n",
    "        print(10, x.size())\n",
    "        x = self.mlp8(x)\n",
    "        print(11, x.size())\n",
    "        x = self.fc(x)\n",
    "        print(12, x.size())\n",
    "\n",
    "        x = self.debug(x).transpose(1,2)\n",
    "\n",
    "        return x#, trans64x64\n",
    "\n",
    "model = PoinNet(input_dim=6, num_classes=2).to(device)"
   ]
  },
  {
   "cell_type": "code",
   "execution_count": 7,
   "id": "3273b2ae",
   "metadata": {},
   "outputs": [],
   "source": [
    "# points, _ = next(iter(train_dataloader))\n",
    "# points = points.to(device)\n",
    "# out, trans = model(points)"
   ]
  },
  {
   "cell_type": "code",
   "execution_count": 8,
   "id": "90bb5de2",
   "metadata": {},
   "outputs": [],
   "source": [
    "class CustomLoss(nn.Module):\n",
    "    def __init__(self):\n",
    "        super().__init__()\n",
    "        self.cross_entropy_loss = nn.CrossEntropyLoss()\n",
    "\n",
    "    def forward(self, inputs, targets, trans):\n",
    "        d = trans.size(1)\n",
    "        I = torch.eye(d).unsqueeze(0).to(device)\n",
    "        loss = torch.linalg.norm(I - torch.bmm(trans, trans.transpose(2,1)), dim=(1,2))\n",
    "        print(loss.size())\n",
    "        loss = torch.mean(loss)\n",
    "        return self.cross_entropy_loss(inputs, targets) + loss"
   ]
  },
  {
   "cell_type": "code",
   "execution_count": 9,
   "id": "20254b01",
   "metadata": {},
   "outputs": [
    {
     "name": "stdout",
     "output_type": "stream",
     "text": [
      "mlp8.1\n"
     ]
    }
   ],
   "source": [
    "for name, module in model.named_modules():\n",
    "    if name == 'mlp8.1':\n",
    "        print(name)\n",
    "    # print(name)"
   ]
  },
  {
   "cell_type": "code",
   "execution_count": 11,
   "id": "99462857",
   "metadata": {},
   "outputs": [
    {
     "name": "stdout",
     "output_type": "stream",
     "text": [
      "torch.Size([64, 5000, 2])\n",
      "Epoch: 1\tBatch ID: 0\tLoss: 24.322431564331055\n",
      "\n",
      "torch.Size([64, 5000, 2])\n",
      "Epoch: 1\tBatch ID: 1\tLoss: 22.052915573120117\n",
      "\n",
      "torch.Size([22, 5000, 2])\n",
      "Epoch: 1\tBatch ID: 2\tLoss: 21.728418350219727\n",
      "\n"
     ]
    }
   ],
   "source": [
    "def train_PointNet(num_epochs, pointnet, train_dataloader, device, num_classes):\n",
    "    pointnet.train()\n",
    "    loss_func = nn.CrossEntropyLoss()\n",
    "    optimizer = optim.Adam(pointnet.parameters(), lr = 0.01)\n",
    "\n",
    "    for epoch in range(num_epochs):\n",
    "        for batch_idx, (points, labels) in enumerate(train_dataloader):\n",
    "            points, labels = points.to(device), labels.to(device)\n",
    "\n",
    "            optimizer.zero_grad()\n",
    "            out = pointnet(points)\n",
    "            print(out.size())\n",
    "            out = out.reshape(-1, num_classes)\n",
    "            labels = labels.view(-1)\n",
    "            loss = loss_func(out, labels)\n",
    "            loss.backward()\n",
    "            optimizer.step()\n",
    " \n",
    "            print(f\"Epoch: {epoch+1}\\tBatch ID: {batch_idx}\\tLoss: {loss.item()}\")\n",
    "            print()\n",
    "\n",
    "            # for name, param in pointnet.named_parameters():\n",
    "            #     writer.add_histogram(name, param.clone().cpu().data.numpy(), epoch*3+batch_idx)\n",
    "            \n",
    "\n",
    "train_PointNet(1, model, train_dataloader, device, num_classes=2)"
   ]
  },
  {
   "cell_type": "code",
   "execution_count": 13,
   "id": "825faa6e",
   "metadata": {},
   "outputs": [
    {
     "name": "stdout",
     "output_type": "stream",
     "text": [
      "torch.Size([64, 5000, 2])\n",
      "torch.Size([64, 5000])\n",
      "271383\n",
      "309142\n",
      "F1 score:  0.22744314348423902\n"
     ]
    }
   ],
   "source": [
    "from sklearn.metrics import f1_score\n",
    "outputs = None\n",
    "points = None\n",
    "x = y = None\n",
    "def test_PointNet(pointnet, test_dataloader, device):\n",
    "    global outputs, points, x, y\n",
    "    pointnet.eval()\n",
    "    correct = 0\n",
    "    total = 0\n",
    "    with torch.no_grad():  # No need to track gradients in testing phase\n",
    "        for idx, (points, labels) in enumerate(test_dataloader):\n",
    "            points, labels = points.to(device), labels.to(device)\n",
    "            outputs = pointnet(points)\n",
    "            print(outputs.size())\n",
    "            _, predicted = torch.max(outputs.data, 2) # returns max values, index of max values\n",
    "            print(predicted.size())\n",
    "            total += labels.size(0) * labels.size(1)\n",
    "            correct += (predicted == labels).sum().item()\n",
    "            x = labels.view(-1).to('cpu').numpy()\n",
    "            y = predicted.view(-1).to('cpu').numpy()\n",
    "            print(sum(x != y))\n",
    "            print(sum(y == 1))\n",
    "            f1 = f1_score(x, y)\n",
    "            print('F1 score: ', f1)\n",
    "            break\n",
    "    \n",
    "test_PointNet(model, test_dataloader, device)"
   ]
  },
  {
   "cell_type": "code",
   "execution_count": 14,
   "id": "cbbe45c7",
   "metadata": {},
   "outputs": [
    {
     "name": "stdout",
     "output_type": "stream",
     "text": [
      "Labels has 277863 zeroes and 42137 ones\n",
      "Predictions has 10858 zeroes and 309142 ones\n"
     ]
    }
   ],
   "source": [
    "print(f\"Labels has {sum(x == 0)} zeroes and {sum(x == 1)} ones\")\n",
    "print(f\"Predictions has {sum(y == 0)} zeroes and {sum(y == 1)} ones\")\n",
    "\n",
    "\n",
    "writer.add_graph(model, points)\n",
    "writer.flush()\n",
    "writer.close()"
   ]
  },
  {
   "attachments": {},
   "cell_type": "markdown",
   "id": "07c64757",
   "metadata": {},
   "source": [
    "73.4029268292683% on roofs (5)\n",
    "86.77414634146342% on trees (8)"
   ]
  }
 ],
 "metadata": {
  "kernelspec": {
   "display_name": "Python 3 (ipykernel)",
   "language": "python",
   "name": "python3"
  },
  "language_info": {
   "codemirror_mode": {
    "name": "ipython",
    "version": 3
   },
   "file_extension": ".py",
   "mimetype": "text/x-python",
   "name": "python",
   "nbconvert_exporter": "python",
   "pygments_lexer": "ipython3",
   "version": "3.9.16"
  }
 },
 "nbformat": 4,
 "nbformat_minor": 5
}
